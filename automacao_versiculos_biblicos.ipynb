{
 "cells": [
  {
   "cell_type": "code",
   "execution_count": 5,
   "id": "d104e61c-b187-476c-b8f8-11a5466880b5",
   "metadata": {},
   "outputs": [
    {
     "name": "stdout",
     "output_type": "stream",
     "text": [
      "Bibliotecas importadas com sucesso!\n",
      "Versículos carregados com sucesso!\n",
      "\n",
      "Postagem simulada - 2025-01-01 18:45:01\n",
      "\n",
      "Versículo: Josué 1:9 - Não foi isso que eu ordenei? Seja forte e corajoso! Não tenha medo, nem fique assustado, porque o Senhor , seu Deus, estará com você por onde quer que você andar.\n",
      "\n",
      "--- Fim da postagem simulada ---\n"
     ]
    }
   ],
   "source": [
    "# Importar bibliotecas\n",
    "import random  # Para escolher versículos aleatórios do arquivo\n",
    "import os  # Para ajudar no gerenciamento de arquivos\n",
    "import datetime  # Para lidar com a data e hora da publicação\n",
    "\n",
    "print(\"Bibliotecas importadas com sucesso!\")\n",
    "\n",
    "# Função para carregar os versículos do arquivo\n",
    "def carregar_versiculos(nome_arquivo):\n",
    "    try:\n",
    "        with open(nome_arquivo, 'r', encoding='utf-8') as arquivo:\n",
    "            versiculos = arquivo.readlines()\n",
    "        # Remove os espaços em branco (como quebras de linha) ao redor de cada versículo\n",
    "        versiculos = [versiculo.strip() for versiculo in versiculos if versiculo.strip()]\n",
    "        return versiculos\n",
    "    except FileNotFoundError:\n",
    "        print(f\"Erro: O arquivo '{nome_arquivo}' não foi encontrado.\")\n",
    "        return []\n",
    "\n",
    "# Função para escolher um versículo aleatório\n",
    "def selecionar_versiculo(versiculos):\n",
    "    return random.choice(versiculos)\n",
    "\n",
    "# Função para simular a publicação no blog\n",
    "def simular_publicacao(versiculo):\n",
    "    data_atual = datetime.datetime.now().strftime('%Y-%m-%d %H:%M:%S')\n",
    "    print(f\"\\nPostagem simulada - {data_atual}\")\n",
    "    print(f\"\\nVersículo: {versiculo}\")\n",
    "    print(\"\\n--- Fim da postagem simulada ---\")\n",
    "\n",
    "# Carregar os versículos e escolher um aleatório\n",
    "nome_arquivo = \"versiculos.txt\"  # Certifique-se de que o arquivo está na mesma pasta do Jupyter\n",
    "versiculos = carregar_versiculos(nome_arquivo)\n",
    "\n",
    "# Verificar se os versículos foram carregados com sucesso\n",
    "if versiculos:\n",
    "    print(\"Versículos carregados com sucesso!\")\n",
    "    versiculo_escolhido = selecionar_versiculo(versiculos)  # Agora esta linha escolhe o versículo aleatório\n",
    "    # Chamar a função de simulação de postagem\n",
    "    simular_publicacao(versiculo_escolhido)  # Esta função agora publica o versículo escolhido\n",
    "else:\n",
    "    print(\"Nenhum versículo foi carregado.\")\n"
   ]
  }
 ],
 "metadata": {
  "kernelspec": {
   "display_name": "Python 3 (ipykernel)",
   "language": "python",
   "name": "python3"
  },
  "language_info": {
   "codemirror_mode": {
    "name": "ipython",
    "version": 3
   },
   "file_extension": ".py",
   "mimetype": "text/x-python",
   "name": "python",
   "nbconvert_exporter": "python",
   "pygments_lexer": "ipython3",
   "version": "3.12.4"
  }
 },
 "nbformat": 4,
 "nbformat_minor": 5
}
