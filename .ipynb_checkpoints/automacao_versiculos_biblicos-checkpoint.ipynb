{
 "cells": [
  {
   "cell_type": "code",
   "execution_count": 7,
   "id": "d104e61c-b187-476c-b8f8-11a5466880b5",
   "metadata": {},
   "outputs": [
    {
     "name": "stdout",
     "output_type": "stream",
     "text": [
      "Bibliotecas importadas com sucesso!\n",
      "Versículos carregados com sucesso!\n",
      "\n",
      "Postagem simulada - 2025-01-01 19:40:59\n",
      "\n",
      "Versículo: João 16:33 - Falei essas coisas para que em mim vocês tenham paz. No mundo, vocês passam por aflições; mas tenham coragem: eu venci o mundo.\n",
      "\n",
      "--- Fim da postagem simulada ---\n"
     ]
    }
   ],
   "source": [
    "# Importar bibliotecas\n",
    "import random  # Para escolher versículos aleatórios do arquivo\n",
    "import os  # Para ajudar no gerenciamento de arquivos\n",
    "import datetime  # Para lidar com a data e hora da publicação\n",
    "\n",
    "print(\"Bibliotecas importadas com sucesso!\")\n",
    "\n",
    "# Função para carregar os versículos do arquivo\n",
    "def carregar_versiculos(nome_arquivo):\n",
    "    try:\n",
    "        with open(nome_arquivo, 'r', encoding='utf-8') as arquivo:\n",
    "            versiculos = arquivo.readlines()\n",
    "        # Remove os espaços em branco (como quebras de linha) ao redor de cada versículo\n",
    "        versiculos = [versiculo.strip() for versiculo in versiculos if versiculo.strip()]\n",
    "        return versiculos\n",
    "    except FileNotFoundError:\n",
    "        print(f\"Erro: O arquivo '{nome_arquivo}' não foi encontrado.\")\n",
    "        return []\n",
    "\n",
    "# Função para escolher um versículo aleatório\n",
    "def selecionar_versiculo(versiculos):\n",
    "    return random.choice(versiculos)\n",
    "\n",
    "# Função para simular a publicação no blog\n",
    "def simular_publicacao(versiculo):\n",
    "    data_atual = datetime.datetime.now().strftime('%Y-%m-%d %H:%M:%S')\n",
    "    print(f\"\\nPostagem simulada - {data_atual}\")\n",
    "    print(f\"\\nVersículo: {versiculo}\")\n",
    "    print(\"\\n--- Fim da postagem simulada ---\")\n",
    "\n",
    "# Carregar os versículos e escolher um aleatório\n",
    "nome_arquivo = \"versiculos.txt\"  # Certifique-se de que o arquivo está na mesma pasta do Jupyter\n",
    "versiculos = carregar_versiculos(nome_arquivo)\n",
    "\n",
    "# Verificar se os versículos foram carregados com sucesso\n",
    "if versiculos:\n",
    "    print(\"Versículos carregados com sucesso!\")\n",
    "    versiculo_escolhido = selecionar_versiculo(versiculos)  # Agora esta linha escolhe o versículo aleatório\n",
    "    # Chamar a função de simulação de postagem\n",
    "    simular_publicacao(versiculo_escolhido)  # Esta função agora publica o versículo escolhido\n",
    "else:\n",
    "    print(\"Nenhum versículo foi carregado.\")\n"
   ]
  },
  {
   "cell_type": "markdown",
   "id": "9e818fd0-4a6c-4f15-a9e6-50b5f1dd2e1c",
   "metadata": {},
   "source": [
    "### Busca da base de dados completa (Bíblia Online)\n",
    "importar bibliotecas necessárias"
   ]
  },
  {
   "cell_type": "code",
   "execution_count": 64,
   "id": "c79a757a-2992-43f7-9f24-e17edfdf995d",
   "metadata": {},
   "outputs": [
    {
     "name": "stdout",
     "output_type": "stream",
     "text": [
      "Versículo do dia: Três vezes roguei ao Senhor que o tirasse de mim. Mas ele me disse: \"Minha graça é suficiente a você, pois o meu poder se aperfeiçoa na fraqueza\". Portanto, eu me gloriarei ainda mais alegremente em minhas fraquezas, para que o poder de Cristo repouse em mim.2 Coríntios 12:8-9\n"
     ]
    }
   ],
   "source": [
    "import requests\n",
    "from bs4 import BeautifulSoup\n",
    "\n",
    "# URL correta do site\n",
    "url = \"https://www.bibliaon.com/versiculo_do_dia/\"\n",
    "\n",
    "# Fazer a requisição para pegar o conteúdo da página\n",
    "site = requests.get(url)\n",
    "\n",
    "# Verificar se a requisição foi bem-sucedida\n",
    "if site.status_code == 200:\n",
    "    # Criar o objeto BeautifulSoup\n",
    "    soup = BeautifulSoup(site.text, 'html.parser')\n",
    "    \n",
    "    # Buscar o versículo do dia\n",
    "    versiculo = soup.find('p', class_='destaque', id='versiculo_hoje')\n",
    "    \n",
    "    if versiculo:\n",
    "        # Extrair o texto do versículo\n",
    "        versiculo_texto = versiculo.get_text(strip=True)\n",
    "        # Exibir o versículo do dia\n",
    "        print(\"Versículo do dia:\", versiculo_texto)\n",
    "    else:\n",
    "        print(\"Versículo do dia não encontrado.\")\n",
    "else:\n",
    "    print(\"Erro ao acessar o site. Status code:\", response.status_code)\n"
   ]
  },
  {
   "cell_type": "code",
   "execution_count": 66,
   "id": "cab3f5f4-2ac1-4a44-a5da-c54c95a8a5de",
   "metadata": {},
   "outputs": [
    {
     "name": "stdout",
     "output_type": "stream",
     "text": [
      "Versículo do dia: Três vezes roguei ao Senhor que o tirasse de mim. Mas ele me disse: \"Minha graça é suficiente a você, pois o meu poder se aperfeiçoa na fraqueza\". Portanto, eu me gloriarei ainda mais alegremente em minhas fraquezas, para que o poder de Cristo repouse em mim. 2 Coríntios 12:8-9\n",
      "Versículo salvo em versiculos_extraidos.txt com sucesso!\n"
     ]
    }
   ],
   "source": [
    "import requests\n",
    "from bs4 import BeautifulSoup\n",
    "\n",
    "# Função para extrair o versículo do dia\n",
    "def extrair_versiculo_do_dia():\n",
    "    url = \"https://www.bibliaon.com/versiculo_do_dia/\"\n",
    "    site = requests.get(url)\n",
    "    soup = BeautifulSoup(site.text, 'html.parser')\n",
    "    elemento = soup.find('p', {'id': 'versiculo_hoje'})\n",
    "    \n",
    "    if elemento:\n",
    "        return elemento.text.strip()\n",
    "    else:\n",
    "        return \"Versículo do dia não encontrado.\"\n",
    "\n",
    "# Função para salvar o versículo em um arquivo\n",
    "def salvar_versiculo_em_arquivo(versiculo, nome_arquivo=\"versiculos_extraidos.txt\"):\n",
    "    with open(nome_arquivo, 'a', encoding='utf-8') as arquivo:\n",
    "        from datetime import datetime\n",
    "        data_atual = datetime.now().strftime('%Y-%m-%d %H:%M:%S')\n",
    "        arquivo.write(f\"{data_atual} - {versiculo}\\n\")\n",
    "    print(f\"Versículo salvo em {nome_arquivo} com sucesso!\")\n",
    "\n",
    "# Extraindo o versículo do dia\n",
    "versiculo_do_dia = extrair_versiculo_do_dia()\n",
    "print(f\"Versículo do dia: {versiculo_do_dia}\")\n",
    "\n",
    "# Salvando o versículo extraído\n",
    "if \"não encontrado\" not in versiculo_do_dia.lower():\n",
    "    salvar_versiculo_em_arquivo(versiculo_do_dia)\n",
    "else:\n",
    "    print(\"Nenhum versículo foi salvo, pois nenhum versículo foi encontrado.\")\n"
   ]
  }
 ],
 "metadata": {
  "kernelspec": {
   "display_name": "Python 3 (ipykernel)",
   "language": "python",
   "name": "python3"
  },
  "language_info": {
   "codemirror_mode": {
    "name": "ipython",
    "version": 3
   },
   "file_extension": ".py",
   "mimetype": "text/x-python",
   "name": "python",
   "nbconvert_exporter": "python",
   "pygments_lexer": "ipython3",
   "version": "3.12.4"
  }
 },
 "nbformat": 4,
 "nbformat_minor": 5
}
