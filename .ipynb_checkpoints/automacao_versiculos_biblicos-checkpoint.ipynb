{
 "cells": [
  {
   "cell_type": "markdown",
   "id": "825c439b-c70c-4e02-a93d-d80c606a660f",
   "metadata": {},
   "source": [
    "Importação de Bibliotecas"
   ]
  },
  {
   "cell_type": "code",
   "execution_count": 11,
   "id": "aa4aa686-c804-47e7-9bcf-5fd08294b0fe",
   "metadata": {},
   "outputs": [
    {
     "name": "stdout",
     "output_type": "stream",
     "text": [
      "Bibliotecas importadas com sucesso!\n"
     ]
    }
   ],
   "source": [
    "# Importar bibliotecas\n",
    "import random\n",
    "import os\n",
    "import datetime\n",
    "import requests\n",
    "from bs4 import BeautifulSoup\n",
    "\n",
    "print(\"Bibliotecas importadas com sucesso!\")"
   ]
  },
  {
   "cell_type": "markdown",
   "id": "a1938f63-f473-432f-aa36-f816b2ff818d",
   "metadata": {},
   "source": [
    "Funções Auxiliares"
   ]
  },
  {
   "cell_type": "code",
   "execution_count": 14,
   "id": "9013b7cc-4bae-470d-9161-b244bfaf07f0",
   "metadata": {},
   "outputs": [],
   "source": [
    "# Funções auxiliares\n",
    "def carregar_versiculos(nome_arquivo):\n",
    "    try:\n",
    "        with open(nome_arquivo, 'r', encoding='utf-8') as arquivo:\n",
    "            versiculos = arquivo.readlines()\n",
    "        versiculos = [versiculo.strip() for versiculo in versiculos if versiculo.strip()]\n",
    "        return versiculos\n",
    "    except FileNotFoundError:\n",
    "        print(f\"Erro: O arquivo '{nome_arquivo}' não foi encontrado.\")\n",
    "        return []\n",
    "\n",
    "def selecionar_versiculo(versiculos):\n",
    "    return random.choice(versiculos)\n",
    "\n",
    "def simular_publicacao(versiculo):\n",
    "    data_atual = datetime.datetime.now().strftime('%Y-%m-%d %H:%M:%S')\n",
    "    print(f\"\\nPostagem simulada - {data_atual}\")\n",
    "    print(f\"\\nVersículo: {versiculo}\")\n",
    "    print(\"\\n--- Fim da postagem simulada ---\")\n",
    "\n",
    "def obter_versiculo_do_dia():\n",
    "    url = \"https://www.bibliaon.com/versiculo_do_dia/\"\n",
    "    site = requests.get(url)\n",
    "    if site.status_code == 200:\n",
    "        soup = BeautifulSoup(site.text, 'html.parser')\n",
    "        versiculo = soup.find('p', class_='destaque', id='versiculo_hoje')\n",
    "        if versiculo:\n",
    "            return versiculo.get_text(strip=True)\n",
    "        else:\n",
    "            print(\"Versículo do dia não encontrado.\")\n",
    "            return None\n",
    "    else:\n",
    "        print(\"Erro ao acessar o site. Status code:\", site.status_code)\n",
    "        return None"
   ]
  },
  {
   "cell_type": "markdown",
   "id": "26ffd4c7-6f7b-4b66-95b3-c456af0da34b",
   "metadata": {},
   "source": [
    "Fluxo Principal do Programa"
   ]
  },
  {
   "cell_type": "code",
   "execution_count": 17,
   "id": "df03d692-adc9-4004-b013-4f7094cbbf0d",
   "metadata": {},
   "outputs": [
    {
     "name": "stdout",
     "output_type": "stream",
     "text": [
      "Versículos carregados com sucesso!\n",
      "\n",
      "Postagem simulada - 2025-01-02 18:03:26\n",
      "\n",
      "Versículo: Salmos 23:1 - O Senhor é o meu pastor; nada me faltará.\n",
      "\n",
      "--- Fim da postagem simulada ---\n",
      "Versículo do dia: Mas eu, com um cântico de gratidão,\n",
      "oferecerei sacrifício a ti.\n",
      "O que eu prometi\n",
      "cumprirei totalmente.\n",
      "A salvação vem do Senhor\".Jonas 2:9\n"
     ]
    }
   ],
   "source": [
    "# Fluxo principal do programa\n",
    "nome_arquivo = \"versiculos.txt\"  # Certifique-se de que o arquivo está na mesma pasta do Jupyter\n",
    "versiculos = carregar_versiculos(nome_arquivo)\n",
    "\n",
    "if versiculos:\n",
    "    print(\"Versículos carregados com sucesso!\")\n",
    "    versiculo_escolhido = selecionar_versiculo(versiculos)\n",
    "    simular_publicacao(versiculo_escolhido)\n",
    "else:\n",
    "    print(\"Nenhum versículo foi carregado.\")\n",
    "\n",
    "versiculo_do_dia = obter_versiculo_do_dia()\n",
    "if versiculo_do_dia:\n",
    "    print(\"Versículo do dia:\", versiculo_do_dia)\n"
   ]
  }
 ],
 "metadata": {
  "kernelspec": {
   "display_name": "Python 3 (ipykernel)",
   "language": "python",
   "name": "python3"
  },
  "language_info": {
   "codemirror_mode": {
    "name": "ipython",
    "version": 3
   },
   "file_extension": ".py",
   "mimetype": "text/x-python",
   "name": "python",
   "nbconvert_exporter": "python",
   "pygments_lexer": "ipython3",
   "version": "3.12.4"
  }
 },
 "nbformat": 4,
 "nbformat_minor": 5
}
